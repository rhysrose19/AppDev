{
 "cells": [
  {
   "cell_type": "markdown",
   "metadata": {},
   "source": [
    "### AppDev Part two: Laoyout Design\n",
    "by: Alireza Dibazar\n",
    "dibazar@gmail.com"
   ]
  },
  {
   "cell_type": "markdown",
   "metadata": {},
   "source": [
    "# Summary:\n",
    "\n",
    "We will learn to develope an app for live streaming of IoT data. The app is suppose to provide analytics-based anomaly detection with details needed to guide field engineers. The data is fetched from Predix Timeseries database and it provides readings of a Three-axis accelerometer which installed in a gas turbine. It is suggested to see the deployed version of the app before the exercise. The app can be found at the following url: https://sample-live-streaming.run.aws-usw02-pr.ice.predix.io/ and [document here](./Documents/Sample_live_Stream.pptx) (Sample_live_Stream.pptx)\n",
    "\n",
    "### Objectives:\n",
    "1. Learn planning of the project based of agile methodology\n",
    "2. Learn how to read data from Cassandra -- Predix Timeseries database -- and be able to change sampling frequency of the data\n",
    "3. Be able to visually demonstrate field engineers pain point and convert that to a wireframe\n",
    "4. Design analytics\n",
    "5. Learn to design app layout based on wireframe\n",
    "6. Be able to deply the app and operationalize it for users\n",
    "\n",
    "\n",
    "### This Notebook\n",
    "This notebook focuses on designing a sample layout. It consists of multiple boxes to host charts, radio buttons, and texts. Layout of app should be prepared after having full understanding of user(s) needs and experinces. For this project, students can consider designing their own lauouts with supporting rationals.\n",
    "\n",
    "We are using Plotly's \"Dash\" for the design. Please consider visiting https://dash.plot.ly/, https://dash.plot.ly/getting-started, and reading through Dash's \"User Guide\" as a pre-requisit. After reading the material please have basic understanding of 1) layout, 2) callbacks, and 3) Dash core components.\n",
    "\n",
    "Please note that in this notebook we wont be working on callbacks. The callbacks will be addressed in Part 3 when all components of the App are assembled together.\n",
    "\n",
    "### Assignment\n",
    "1. Change font color and size\n",
    "2. Change window and background colors\n",
    "3. Create a drop-down list and move content of dcc.RadioItems with of id='historical-data' into that\n",
    "4. Reassign proper names to Id(s); the employed names in this example layout may not represent the functions\n"
   ]
  },
  {
   "cell_type": "code",
   "execution_count": 1,
   "metadata": {},
   "outputs": [],
   "source": [
    "# This section imports necessary packages \n",
    "# The app employs two major components: \"flask\" and plotly's \"dash\"\n",
    "\n",
    "import dash\n",
    "import dash_core_components as dcc\n",
    "import dash_html_components as html\n",
    "from dash.dependencies import Input, Output, State\n",
    "#import plotly.plotly as py\n",
    "from plotly.graph_objs import *\n",
    "from chart_studio import plotly\n",
    "from flask import Flask\n",
    "import os"
   ]
  },
  {
   "cell_type": "code",
   "execution_count": null,
   "metadata": {},
   "outputs": [],
   "source": []
  },
  {
   "cell_type": "code",
   "execution_count": 2,
   "metadata": {},
   "outputs": [],
   "source": [
    "external_css = [\"https://cdnjs.cloudflare.com/ajax/libs/skeleton/2.0.4/skeleton.min.css\",\n",
    "                \"https://fonts.googleapis.com/css?family=Raleway:400,400i,700,700i\",\n",
    "                \"https://fonts.googleapis.com/css?family=Product+Sans:400,400i,700,700i\"]\n",
    "\n",
    "app = dash.Dash(\n",
    "    'streaming-data-app',\n",
    "    external_stylesheets=external_css\n",
    ")\n",
    "\n",
    "server = app.server\n",
    "\n",
    "app.css.config.serve_locally = True\n",
    "app.scripts.config.serve_locally = True\n",
    "colors = {\n",
    "    'background': '#111111',\n",
    "    'text': '#7FDBFF'\n",
    "}"
   ]
  },
  {
   "cell_type": "code",
   "execution_count": 3,
   "metadata": {},
   "outputs": [],
   "source": [
    "# layout is defined here\n",
    "# \n",
    "\n",
    "app.layout = html.Div([\n",
    "    html.Div([\n",
    "    \n",
    "        html.H4(\"Live Turbine Vibration Monitoring\"),\n",
    "    ], className='banner'),\n",
    "            html.Div([\n",
    "                html.Div([\n",
    "                    dcc.RadioItems(\n",
    "                        id='mode_detect',\n",
    "                        options=[{'label': i, 'value': i} for i in ['Threshold', 'Analytic 1','Analytic 2']],\n",
    "                        value='Threshold',\n",
    "                        labelStyle={'display': 'inline-block'}\n",
    "                    )],\n",
    "                    className='five columns'),\n",
    "                html.Div([\n",
    "                    dcc.RadioItems(id='Start-Stop', \n",
    "                    options= [{'label':'Start-Stream', 'value':'STR'},\n",
    "                                {'label':'Stop-Stream', 'value':'STP'}],\n",
    "                                   value='STR',\n",
    "                           labelStyle={'display': 'inline-block'}),\n",
    "                    dcc.RadioItems(id='historical-data',\n",
    "                    options=[{'label':'Historical-Data','value':'2018'}, # {'label':'2019','value':'2019'},\n",
    "                             {'label':'Live-Stream','value':'live'}],\n",
    "                            value ='live',\n",
    "                            labelStyle={'display': 'inline-block'})\n",
    "                    ],\n",
    "                    className='five columns'),\n",
    "                html.Div([html.H4(\" \")],className='two columns',id='live-update-text')\n",
    "                \n",
    "            ], className='row'),\n",
    "    \n",
    "    html.Div([\n",
    "        html.Div([\n",
    "            html.H6(\" \")\n",
    "        ], className='Title'),\n",
    "        \n",
    "        html.Div([\n",
    "            dcc.Graph(id='main-chart'),\n",
    "        ], className='twelve columns layout'),\n",
    "#         \n",
    "#         Read data every 60 secs and refresh the charts accordingly\n",
    "#         \n",
    "        dcc.Interval(id='speed-update', interval=60000, n_intervals=0), \n",
    "    ], className='row speed-row', style={'backgroundColor': 'rgb(0, 0, 0)'}),\n",
    "\n",
    "    html.Div([\n",
    "        html.H6(\"  Accelartion Magnitude  \")\n",
    "        ], className='Row Title'),\n",
    "    html.Div([\n",
    "            dcc.Graph(id=\"Reactive-Power00\"),\n",
    "        ], className='twelve columns speed'),\n",
    "#########\n",
    "    html.Div([\n",
    "    html.Div([\n",
    "            html.Div([\n",
    "                html.H6(\"Acc1 data(Top) and Acc2 data (Bottom)\")\n",
    "            ], className='Title'),\n",
    "            dcc.Graph(id='Turb_Brg_Oil_temp'),\n",
    "            dcc.Graph(id='Jet-Pumps'),\n",
    "            ], className='six columns'),\n",
    "        \n",
    "        html.Div([\n",
    "            html.Div([\n",
    "                html.H6(\"Acc3 data(Top) and Acc4 data (Bottom)\")\n",
    "            ], className='Title'),\n",
    "            dcc.Graph(id='TG_Brg_Temp'),\n",
    "            dcc.Graph(id='TG_Brg_Vib'),\n",
    "        ], className='six columns')\n",
    "    ], className='row'),   \n",
    "\n",
    "    html.Div([\n",
    "        html.H2(\" -- \")\n",
    "        ], className='Row Title'),\n",
    "        \n",
    "    \n",
    "], style={'padding': '0px 10px 15px 10px',\n",
    "          #'backgroundColor': 'rgb(250, 250, 250)',\n",
    "          'color': colors['text'],\n",
    "          'backgroundColor': colors['background'],\n",
    "          'marginLeft': 'auto', 'marginRight': 'auto', \"width\": \"1600px\",\n",
    "          'boxShadow': '0px 0px 5px 5px rgba(204,204,204,0.4)'})\n"
   ]
  },
  {
   "cell_type": "code",
   "execution_count": 4,
   "metadata": {},
   "outputs": [],
   "source": [
    "services = os.getenv(\"VCAP_SERVICES\")\n",
    "port = None\n",
    "\n",
    "if services is not None:\n",
    "    vcap = json.loads(services)\n",
    "    port = int(os.getenv(\"PORT\"))"
   ]
  },
  {
   "cell_type": "code",
   "execution_count": null,
   "metadata": {},
   "outputs": [
    {
     "name": "stdout",
     "output_type": "stream",
     "text": [
      " * Serving Flask app \"streaming-data-app\" (lazy loading)\n",
      " * Environment: production\n",
      "   WARNING: This is a development server. Do not use it in a production deployment.\n",
      "   Use a production WSGI server instead.\n",
      " * Debug mode: off\n"
     ]
    },
    {
     "name": "stderr",
     "output_type": "stream",
     "text": [
      " * Running on http://127.0.0.1:8050/ (Press CTRL+C to quit)\n",
      "127.0.0.1 - - [28/Nov/2019 13:02:35] \"GET / HTTP/1.1\" 200 -\n",
      "127.0.0.1 - - [28/Nov/2019 13:02:35] \"GET /_dash-component-suites/dash_renderer/react@16.8.6.min.js?v=1.1.0&m=1569065490 HTTP/1.1\" 200 -\n",
      "127.0.0.1 - - [28/Nov/2019 13:02:35] \"GET /_dash-component-suites/dash_renderer/prop-types@15.7.2.min.js?v=1.1.0&m=1569065490 HTTP/1.1\" 200 -\n",
      "127.0.0.1 - - [28/Nov/2019 13:02:35] \"GET /_dash-component-suites/dash_core_components/highlight.pack.js?v=1.2.0&m=1569065491 HTTP/1.1\" 200 -\n",
      "127.0.0.1 - - [28/Nov/2019 13:02:35] \"GET /_dash-component-suites/dash_renderer/react-dom@16.8.6.min.js?v=1.1.0&m=1569065490 HTTP/1.1\" 200 -\n",
      "127.0.0.1 - - [28/Nov/2019 13:02:35] \"GET /_dash-component-suites/dash_html_components/dash_html_components.min.js?v=1.0.1&m=1569065491 HTTP/1.1\" 200 -\n",
      "127.0.0.1 - - [28/Nov/2019 13:02:35] \"GET /_dash-component-suites/dash_renderer/dash_renderer.min.js?v=1.1.0&m=1569065490 HTTP/1.1\" 200 -\n",
      "127.0.0.1 - - [28/Nov/2019 13:02:35] \"GET /_dash-component-suites/dash_core_components/dash_core_components.min.js?v=1.2.0&m=1569065491 HTTP/1.1\" 200 -\n",
      "127.0.0.1 - - [28/Nov/2019 13:02:35] \"GET /_dash-component-suites/dash_core_components/plotly-1.49.4.min.js?v=1.2.0&m=1569065491 HTTP/1.1\" 200 -\n",
      "127.0.0.1 - - [28/Nov/2019 13:02:41] \"GET /_dash-dependencies HTTP/1.1\" 200 -\n",
      "127.0.0.1 - - [28/Nov/2019 13:02:41] \"GET /_dash-layout HTTP/1.1\" 200 -\n",
      "127.0.0.1 - - [28/Nov/2019 13:02:42] \"GET /_favicon.ico?v=1.3.0 HTTP/1.1\" 200 -\n"
     ]
    }
   ],
   "source": [
    "if __name__ == '__main__':\n",
    "    if port is not None:\n",
    "        app.run_server(host='0.0.0.0', port=port)\n",
    "\n",
    "    else:\n",
    "        app.run_server()\n"
   ]
  },
  {
   "cell_type": "code",
   "execution_count": null,
   "metadata": {},
   "outputs": [],
   "source": []
  },
  {
   "cell_type": "code",
   "execution_count": null,
   "metadata": {},
   "outputs": [],
   "source": []
  },
  {
   "cell_type": "code",
   "execution_count": null,
   "metadata": {},
   "outputs": [],
   "source": []
  }
 ],
 "metadata": {
  "kernelspec": {
   "display_name": "Python 3",
   "language": "python",
   "name": "python3"
  },
  "language_info": {
   "codemirror_mode": {
    "name": "ipython",
    "version": 3
   },
   "file_extension": ".py",
   "mimetype": "text/x-python",
   "name": "python",
   "nbconvert_exporter": "python",
   "pygments_lexer": "ipython3",
   "version": "3.6.9"
  }
 },
 "nbformat": 4,
 "nbformat_minor": 2
}
