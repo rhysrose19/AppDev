{
 "cells": [
  {
   "cell_type": "code",
   "execution_count": 1,
   "metadata": {},
   "outputs": [],
   "source": [
    "# This section imports necessary packages \n",
    "# The app employs two major components: \"flask\" and plotly's \"dash\"\n",
    "\n",
    "\n",
    "import requests\n",
    "import json\n",
    "import dash\n",
    "import dash_core_components as dcc\n",
    "import dash_html_components as html\n",
    "from dash.dependencies import Input, Output, State\n",
    "#import plotly.plotly as py\n",
    "from chart_studio import plotly\n",
    "from plotly.graph_objs import *\n",
    "from flask import Flask\n",
    "import numpy as np\n",
    "import pandas as pd\n",
    "import os\n",
    "import datetime as dt\n",
    "import json\n",
    "# import http.client"
   ]
  },
  {
   "cell_type": "code",
   "execution_count": 2,
   "metadata": {},
   "outputs": [],
   "source": [
    "external_css = [\"https://cdnjs.cloudflare.com/ajax/libs/skeleton/2.0.4/skeleton.min.css\",\n",
    "                \"https://fonts.googleapis.com/css?family=Raleway:400,400i,700,700i\",\n",
    "                \"https://fonts.googleapis.com/css?family=Product+Sans:400,400i,700,700i\"]\n",
    "\n",
    "app = dash.Dash(\n",
    "    'streaming-SUMon-app',\n",
    "    external_stylesheets=external_css\n",
    ")\n",
    "server = app.server\n",
    "\n",
    "app.css.config.serve_locally = True\n",
    "app.scripts.config.serve_locally = True"
   ]
  },
  {
   "cell_type": "code",
   "execution_count": 3,
   "metadata": {},
   "outputs": [],
   "source": [
    "app.layout = html.Div([\n",
    "    html.Div([\n",
    "    \n",
    "        html.H4(\"Live Turbine Vibration Monitoring\"),\n",
    "    ], className='banner'),\n",
    "            html.Div([\n",
    "                html.Div([\n",
    "                    dcc.RadioItems(\n",
    "                        id='mode_detect',\n",
    "                        options=[{'label': i, 'value': i} for i in ['Threshold', 'Analytic 1','Analytic 2']],\n",
    "                        value='Threshold',\n",
    "                        labelStyle={'display': 'inline-block'}\n",
    "                    )],\n",
    "                    className='five columns'),\n",
    "                html.Div([\n",
    "                    dcc.RadioItems(id='Start-Stop', \n",
    "                    options= [{'label':'Start-Stream', 'value':'STR'},\n",
    "                                {'label':'Stop-Stream', 'value':'STP'}],\n",
    "                                   value='STR',\n",
    "                           labelStyle={'display': 'inline-block'}),\n",
    "                    dcc.RadioItems(id='historical-data',\n",
    "                    options=[{'label':'Historical-Data','value':'2018'}, \n",
    "                             {'label':'Live-Stream','value':'live'}],\n",
    "                            value ='live',\n",
    "                            labelStyle={'display': 'inline-block'})\n",
    "                    ],\n",
    "                    className='five columns'),\n",
    "                html.Div([html.H4(\" \")],className='two columns',id='live-update-text')\n",
    "                \n",
    "            ], className='row'),\n",
    "    \n",
    "    html.Div([\n",
    "        html.Div([\n",
    "            html.H6(\" \")\n",
    "        ], className='Title'),\n",
    "        \n",
    "        html.Div([\n",
    "            dcc.Graph(id='main-chart'),\n",
    "        ], className='twelve columns wind-speed'),\n",
    "#         \n",
    "#         Read data every 60 secs and refresh the charts accordingly\n",
    "#         \n",
    "        dcc.Interval(id='speed-update', interval=60000, n_intervals=0), \n",
    "    ], className='row speed-row', style={'backgroundColor': 'rgb(0, 0, 0)'}),\n",
    "\n",
    "    html.Div([\n",
    "        html.H6(\"  Accelartion Magnitude  \")\n",
    "        ], className='Row Title'),\n",
    "    html.Div([\n",
    "            dcc.Graph(id=\"Reactive-Power00\"),\n",
    "        ], className='twelve columns speed'),\n",
    "#########\n",
    "    html.Div([\n",
    "    html.Div([\n",
    "            html.Div([\n",
    "                html.H6(\"Acc1 data(Top) and Acc2 data (Bottom)\")\n",
    "            ], className='Title'),\n",
    "            dcc.Graph(id='Turb_Brg_Oil_temp'),\n",
    "            dcc.Graph(id='Jet-Pumps'),\n",
    "            ], className='six columns'),\n",
    "        \n",
    "        html.Div([\n",
    "            html.Div([\n",
    "                html.H6(\"Acc3 data(Top) and Acc4 data (Bottom)\")\n",
    "            ], className='Title'),\n",
    "            dcc.Graph(id='TG_Brg_Temp'),\n",
    "            dcc.Graph(id='TG_Brg_Vib'),\n",
    "        ], className='six columns')\n",
    "    ], className='row'),   \n",
    "\n",
    "    html.Div([\n",
    "        html.H2(\" -- \")\n",
    "        ], className='Row Title'),\n",
    "        \n",
    "    \n",
    "], style={'padding': '0px 10px 15px 10px',\n",
    "          'backgroundColor': 'rgb(250, 250, 250)',\n",
    "          'marginLeft': 'auto', 'marginRight': 'auto', \"width\": \"1600px\",\n",
    "          'boxShadow': '0px 0px 5px 5px rgba(204,204,204,0.4)'})\n"
   ]
  },
  {
   "cell_type": "code",
   "execution_count": 4,
   "metadata": {},
   "outputs": [],
   "source": [
    "services = os.getenv(\"VCAP_SERVICES\")\n",
    "port = None\n",
    "\n",
    "if services is not None:\n",
    "    vcap = json.loads(services)\n",
    "    port = int(os.getenv(\"PORT\"))"
   ]
  },
  {
   "cell_type": "code",
   "execution_count": 5,
   "metadata": {},
   "outputs": [
    {
     "name": "stdout",
     "output_type": "stream",
     "text": [
      " * Serving Flask app \"streaming-SUMon-app\" (lazy loading)\n",
      " * Environment: production\n",
      "   WARNING: This is a development server. Do not use it in a production deployment.\n",
      "   Use a production WSGI server instead.\n",
      " * Debug mode: off\n"
     ]
    },
    {
     "name": "stderr",
     "output_type": "stream",
     "text": [
      " * Running on http://127.0.0.1:8050/ (Press CTRL+C to quit)\n",
      "127.0.0.1 - - [13/Oct/2019 16:45:12] \"GET / HTTP/1.1\" 200 -\n",
      "127.0.0.1 - - [13/Oct/2019 16:45:12] \"GET /_dash-component-suites/dash_renderer/react@16.8.6.min.js?v=1.1.0&m=1569065490 HTTP/1.1\" 200 -\n",
      "127.0.0.1 - - [13/Oct/2019 16:45:12] \"GET /_dash-component-suites/dash_renderer/prop-types@15.7.2.min.js?v=1.1.0&m=1569065490 HTTP/1.1\" 200 -\n",
      "127.0.0.1 - - [13/Oct/2019 16:45:12] \"GET /_dash-component-suites/dash_renderer/react-dom@16.8.6.min.js?v=1.1.0&m=1569065490 HTTP/1.1\" 200 -\n",
      "127.0.0.1 - - [13/Oct/2019 16:45:12] \"GET /_dash-component-suites/dash_core_components/highlight.pack.js?v=1.2.0&m=1569065491 HTTP/1.1\" 200 -\n",
      "127.0.0.1 - - [13/Oct/2019 16:45:12] \"GET /_dash-component-suites/dash_html_components/dash_html_components.min.js?v=1.0.1&m=1569065491 HTTP/1.1\" 200 -\n",
      "127.0.0.1 - - [13/Oct/2019 16:45:12] \"GET /_dash-component-suites/dash_renderer/dash_renderer.min.js?v=1.1.0&m=1569065490 HTTP/1.1\" 200 -\n",
      "127.0.0.1 - - [13/Oct/2019 16:45:12] \"GET /_dash-component-suites/dash_core_components/dash_core_components.min.js?v=1.2.0&m=1569065491 HTTP/1.1\" 200 -\n",
      "127.0.0.1 - - [13/Oct/2019 16:45:12] \"GET /_dash-component-suites/dash_core_components/plotly-1.49.4.min.js?v=1.2.0&m=1569065491 HTTP/1.1\" 200 -\n",
      "127.0.0.1 - - [13/Oct/2019 16:45:13] \"GET /_dash-layout HTTP/1.1\" 200 -\n",
      "127.0.0.1 - - [13/Oct/2019 16:45:13] \"GET /_dash-dependencies HTTP/1.1\" 200 -\n",
      "127.0.0.1 - - [13/Oct/2019 16:45:18] \"GET / HTTP/1.1\" 200 -\n",
      "127.0.0.1 - - [13/Oct/2019 16:45:18] \"GET /_dash-component-suites/dash_renderer/react@16.8.6.min.js?v=1.1.0&m=1569065490 HTTP/1.1\" 200 -\n",
      "127.0.0.1 - - [13/Oct/2019 16:45:18] \"GET /_dash-component-suites/dash_renderer/prop-types@15.7.2.min.js?v=1.1.0&m=1569065490 HTTP/1.1\" 200 -\n",
      "127.0.0.1 - - [13/Oct/2019 16:45:18] \"GET /_dash-component-suites/dash_html_components/dash_html_components.min.js?v=1.0.1&m=1569065491 HTTP/1.1\" 200 -\n",
      "127.0.0.1 - - [13/Oct/2019 16:45:18] \"GET /_dash-component-suites/dash_core_components/highlight.pack.js?v=1.2.0&m=1569065491 HTTP/1.1\" 200 -\n",
      "127.0.0.1 - - [13/Oct/2019 16:45:18] \"GET /_dash-component-suites/dash_renderer/react-dom@16.8.6.min.js?v=1.1.0&m=1569065490 HTTP/1.1\" 200 -\n",
      "127.0.0.1 - - [13/Oct/2019 16:45:18] \"GET /_dash-component-suites/dash_renderer/dash_renderer.min.js?v=1.1.0&m=1569065490 HTTP/1.1\" 200 -\n",
      "127.0.0.1 - - [13/Oct/2019 16:45:18] \"GET /_dash-component-suites/dash_core_components/dash_core_components.min.js?v=1.2.0&m=1569065491 HTTP/1.1\" 200 -\n",
      "127.0.0.1 - - [13/Oct/2019 16:45:18] \"GET /_dash-component-suites/dash_core_components/plotly-1.49.4.min.js?v=1.2.0&m=1569065491 HTTP/1.1\" 200 -\n",
      "127.0.0.1 - - [13/Oct/2019 16:45:19] \"GET /_dash-dependencies HTTP/1.1\" 200 -\n",
      "127.0.0.1 - - [13/Oct/2019 16:45:19] \"GET /_dash-layout HTTP/1.1\" 200 -\n",
      "127.0.0.1 - - [13/Oct/2019 16:45:19] \"GET /_favicon.ico?v=1.3.0 HTTP/1.1\" 200 -\n"
     ]
    },
    {
     "name": "stdout",
     "output_type": "stream",
     "text": [
      "Exception on /_dash-update-component [POST]\n",
      "Traceback (most recent call last):\n",
      "  File \"/Applications/anaconda3/envs/wineApi/lib/python3.6/site-packages/flask/app.py\", line 2446, in wsgi_app\n",
      "    response = self.full_dispatch_request()\n",
      "  File \"/Applications/anaconda3/envs/wineApi/lib/python3.6/site-packages/flask/app.py\", line 1951, in full_dispatch_request\n",
      "    rv = self.handle_user_exception(e)\n",
      "  File \"/Applications/anaconda3/envs/wineApi/lib/python3.6/site-packages/flask/app.py\", line 1820, in handle_user_exception\n",
      "    reraise(exc_type, exc_value, tb)\n",
      "  File \"/Applications/anaconda3/envs/wineApi/lib/python3.6/site-packages/flask/_compat.py\", line 39, in reraise\n",
      "    raise value\n",
      "  File \"/Applications/anaconda3/envs/wineApi/lib/python3.6/site-packages/flask/app.py\", line 1949, in full_dispatch_request\n",
      "    rv = self.dispatch_request()\n",
      "  File \"/Applications/anaconda3/envs/wineApi/lib/python3.6/site-packages/flask/app.py\", line 1935, in dispatch_request\n",
      "    return self.view_functions[rule.endpoint](**req.view_args)\n",
      "  File \"/Applications/anaconda3/envs/wineApi/lib/python3.6/site-packages/dash/dash.py\", line 1275, in dispatch\n",
      "    for component_registration in self.callback_map[output]['inputs']:\n",
      "KeyError: '..main-chart.figure...Reactive-Power00.figure...TG_Brg_Temp.figure...TG_Brg_Vib.figure...Turb_Brg_Oil_temp.figure...Jet-Pumps.figure..'\n",
      "Exception on /_dash-update-component [POST]\n",
      "Traceback (most recent call last):\n",
      "  File \"/Applications/anaconda3/envs/wineApi/lib/python3.6/site-packages/flask/app.py\", line 2446, in wsgi_app\n",
      "    response = self.full_dispatch_request()\n",
      "  File \"/Applications/anaconda3/envs/wineApi/lib/python3.6/site-packages/flask/app.py\", line 1951, in full_dispatch_request\n",
      "    rv = self.handle_user_exception(e)\n",
      "  File \"/Applications/anaconda3/envs/wineApi/lib/python3.6/site-packages/flask/app.py\", line 1820, in handle_user_exception\n",
      "    reraise(exc_type, exc_value, tb)\n",
      "  File \"/Applications/anaconda3/envs/wineApi/lib/python3.6/site-packages/flask/_compat.py\", line 39, in reraise\n",
      "    raise value\n",
      "  File \"/Applications/anaconda3/envs/wineApi/lib/python3.6/site-packages/flask/app.py\", line 1949, in full_dispatch_request\n",
      "    rv = self.dispatch_request()\n",
      "  File \"/Applications/anaconda3/envs/wineApi/lib/python3.6/site-packages/flask/app.py\", line 1935, in dispatch_request\n",
      "    return self.view_functions[rule.endpoint](**req.view_args)\n",
      "  File \"/Applications/anaconda3/envs/wineApi/lib/python3.6/site-packages/dash/dash.py\", line 1275, in dispatch\n",
      "    for component_registration in self.callback_map[output]['inputs']:\n",
      "KeyError: 'live-update-text.children'\n"
     ]
    },
    {
     "name": "stderr",
     "output_type": "stream",
     "text": [
      "127.0.0.1 - - [13/Oct/2019 16:45:50] \"POST /_dash-update-component HTTP/1.1\" 500 -\n",
      "127.0.0.1 - - [13/Oct/2019 16:45:50] \"POST /_dash-update-component HTTP/1.1\" 500 -\n"
     ]
    },
    {
     "name": "stdout",
     "output_type": "stream",
     "text": [
      "Exception on /_dash-update-component [POST]\n",
      "Traceback (most recent call last):\n",
      "  File \"/Applications/anaconda3/envs/wineApi/lib/python3.6/site-packages/flask/app.py\", line 2446, in wsgi_app\n",
      "    response = self.full_dispatch_request()\n",
      "  File \"/Applications/anaconda3/envs/wineApi/lib/python3.6/site-packages/flask/app.py\", line 1951, in full_dispatch_request\n",
      "    rv = self.handle_user_exception(e)\n",
      "  File \"/Applications/anaconda3/envs/wineApi/lib/python3.6/site-packages/flask/app.py\", line 1820, in handle_user_exception\n",
      "    reraise(exc_type, exc_value, tb)\n",
      "  File \"/Applications/anaconda3/envs/wineApi/lib/python3.6/site-packages/flask/_compat.py\", line 39, in reraise\n",
      "    raise value\n",
      "  File \"/Applications/anaconda3/envs/wineApi/lib/python3.6/site-packages/flask/app.py\", line 1949, in full_dispatch_request\n",
      "    rv = self.dispatch_request()\n",
      "  File \"/Applications/anaconda3/envs/wineApi/lib/python3.6/site-packages/flask/app.py\", line 1935, in dispatch_request\n",
      "    return self.view_functions[rule.endpoint](**req.view_args)\n",
      "  File \"/Applications/anaconda3/envs/wineApi/lib/python3.6/site-packages/dash/dash.py\", line 1275, in dispatch\n",
      "    for component_registration in self.callback_map[output]['inputs']:\n",
      "KeyError: '..main-chart.figure...Reactive-Power00.figure...TG_Brg_Temp.figure...TG_Brg_Vib.figure...Turb_Brg_Oil_temp.figure...Jet-Pumps.figure..'\n"
     ]
    },
    {
     "name": "stderr",
     "output_type": "stream",
     "text": [
      "127.0.0.1 - - [13/Oct/2019 16:46:50] \"POST /_dash-update-component HTTP/1.1\" 500 -\n"
     ]
    },
    {
     "name": "stdout",
     "output_type": "stream",
     "text": [
      "Exception on /_dash-update-component [POST]\n",
      "Traceback (most recent call last):\n",
      "  File \"/Applications/anaconda3/envs/wineApi/lib/python3.6/site-packages/flask/app.py\", line 2446, in wsgi_app\n",
      "    response = self.full_dispatch_request()\n",
      "  File \"/Applications/anaconda3/envs/wineApi/lib/python3.6/site-packages/flask/app.py\", line 1951, in full_dispatch_request\n",
      "    rv = self.handle_user_exception(e)\n",
      "  File \"/Applications/anaconda3/envs/wineApi/lib/python3.6/site-packages/flask/app.py\", line 1820, in handle_user_exception\n",
      "    reraise(exc_type, exc_value, tb)\n",
      "  File \"/Applications/anaconda3/envs/wineApi/lib/python3.6/site-packages/flask/_compat.py\", line 39, in reraise\n",
      "    raise value\n",
      "  File \"/Applications/anaconda3/envs/wineApi/lib/python3.6/site-packages/flask/app.py\", line 1949, in full_dispatch_request\n",
      "    rv = self.dispatch_request()\n",
      "  File \"/Applications/anaconda3/envs/wineApi/lib/python3.6/site-packages/flask/app.py\", line 1935, in dispatch_request\n",
      "    return self.view_functions[rule.endpoint](**req.view_args)\n",
      "  File \"/Applications/anaconda3/envs/wineApi/lib/python3.6/site-packages/dash/dash.py\", line 1275, in dispatch\n",
      "    for component_registration in self.callback_map[output]['inputs']:\n",
      "KeyError: 'live-update-text.children'\n"
     ]
    },
    {
     "name": "stderr",
     "output_type": "stream",
     "text": [
      "127.0.0.1 - - [13/Oct/2019 16:46:50] \"POST /_dash-update-component HTTP/1.1\" 500 -\n"
     ]
    },
    {
     "name": "stdout",
     "output_type": "stream",
     "text": [
      "Exception on /_dash-update-component [POST]\n",
      "Traceback (most recent call last):\n",
      "  File \"/Applications/anaconda3/envs/wineApi/lib/python3.6/site-packages/flask/app.py\", line 2446, in wsgi_app\n",
      "    response = self.full_dispatch_request()\n",
      "  File \"/Applications/anaconda3/envs/wineApi/lib/python3.6/site-packages/flask/app.py\", line 1951, in full_dispatch_request\n",
      "    rv = self.handle_user_exception(e)\n",
      "  File \"/Applications/anaconda3/envs/wineApi/lib/python3.6/site-packages/flask/app.py\", line 1820, in handle_user_exception\n",
      "    reraise(exc_type, exc_value, tb)\n",
      "  File \"/Applications/anaconda3/envs/wineApi/lib/python3.6/site-packages/flask/_compat.py\", line 39, in reraise\n",
      "    raise value\n",
      "  File \"/Applications/anaconda3/envs/wineApi/lib/python3.6/site-packages/flask/app.py\", line 1949, in full_dispatch_request\n",
      "    rv = self.dispatch_request()\n",
      "  File \"/Applications/anaconda3/envs/wineApi/lib/python3.6/site-packages/flask/app.py\", line 1935, in dispatch_request\n",
      "    return self.view_functions[rule.endpoint](**req.view_args)\n",
      "  File \"/Applications/anaconda3/envs/wineApi/lib/python3.6/site-packages/dash/dash.py\", line 1275, in dispatch\n",
      "    for component_registration in self.callback_map[output]['inputs']:\n",
      "KeyError: '..main-chart.figure...Reactive-Power00.figure...TG_Brg_Temp.figure...TG_Brg_Vib.figure...Turb_Brg_Oil_temp.figure...Jet-Pumps.figure..'\n"
     ]
    },
    {
     "name": "stderr",
     "output_type": "stream",
     "text": [
      "127.0.0.1 - - [13/Oct/2019 16:47:50] \"POST /_dash-update-component HTTP/1.1\" 500 -\n"
     ]
    },
    {
     "name": "stdout",
     "output_type": "stream",
     "text": [
      "Exception on /_dash-update-component [POST]\n",
      "Traceback (most recent call last):\n",
      "  File \"/Applications/anaconda3/envs/wineApi/lib/python3.6/site-packages/flask/app.py\", line 2446, in wsgi_app\n",
      "    response = self.full_dispatch_request()\n",
      "  File \"/Applications/anaconda3/envs/wineApi/lib/python3.6/site-packages/flask/app.py\", line 1951, in full_dispatch_request\n",
      "    rv = self.handle_user_exception(e)\n",
      "  File \"/Applications/anaconda3/envs/wineApi/lib/python3.6/site-packages/flask/app.py\", line 1820, in handle_user_exception\n",
      "    reraise(exc_type, exc_value, tb)\n",
      "  File \"/Applications/anaconda3/envs/wineApi/lib/python3.6/site-packages/flask/_compat.py\", line 39, in reraise\n",
      "    raise value\n",
      "  File \"/Applications/anaconda3/envs/wineApi/lib/python3.6/site-packages/flask/app.py\", line 1949, in full_dispatch_request\n",
      "    rv = self.dispatch_request()\n",
      "  File \"/Applications/anaconda3/envs/wineApi/lib/python3.6/site-packages/flask/app.py\", line 1935, in dispatch_request\n",
      "    return self.view_functions[rule.endpoint](**req.view_args)\n",
      "  File \"/Applications/anaconda3/envs/wineApi/lib/python3.6/site-packages/dash/dash.py\", line 1275, in dispatch\n",
      "    for component_registration in self.callback_map[output]['inputs']:\n",
      "KeyError: 'live-update-text.children'\n"
     ]
    },
    {
     "name": "stderr",
     "output_type": "stream",
     "text": [
      "127.0.0.1 - - [13/Oct/2019 16:47:50] \"POST /_dash-update-component HTTP/1.1\" 500 -\n"
     ]
    },
    {
     "name": "stdout",
     "output_type": "stream",
     "text": [
      "Exception on /_dash-update-component [POST]\n",
      "Traceback (most recent call last):\n",
      "  File \"/Applications/anaconda3/envs/wineApi/lib/python3.6/site-packages/flask/app.py\", line 2446, in wsgi_app\n",
      "    response = self.full_dispatch_request()\n",
      "  File \"/Applications/anaconda3/envs/wineApi/lib/python3.6/site-packages/flask/app.py\", line 1951, in full_dispatch_request\n",
      "    rv = self.handle_user_exception(e)\n",
      "  File \"/Applications/anaconda3/envs/wineApi/lib/python3.6/site-packages/flask/app.py\", line 1820, in handle_user_exception\n",
      "    reraise(exc_type, exc_value, tb)\n",
      "  File \"/Applications/anaconda3/envs/wineApi/lib/python3.6/site-packages/flask/_compat.py\", line 39, in reraise\n",
      "    raise value\n",
      "  File \"/Applications/anaconda3/envs/wineApi/lib/python3.6/site-packages/flask/app.py\", line 1949, in full_dispatch_request\n",
      "    rv = self.dispatch_request()\n",
      "  File \"/Applications/anaconda3/envs/wineApi/lib/python3.6/site-packages/flask/app.py\", line 1935, in dispatch_request\n",
      "    return self.view_functions[rule.endpoint](**req.view_args)\n",
      "  File \"/Applications/anaconda3/envs/wineApi/lib/python3.6/site-packages/dash/dash.py\", line 1275, in dispatch\n",
      "    for component_registration in self.callback_map[output]['inputs']:\n",
      "KeyError: '..main-chart.figure...Reactive-Power00.figure...TG_Brg_Temp.figure...TG_Brg_Vib.figure...Turb_Brg_Oil_temp.figure...Jet-Pumps.figure..'\n"
     ]
    },
    {
     "name": "stderr",
     "output_type": "stream",
     "text": [
      "127.0.0.1 - - [13/Oct/2019 16:48:50] \"POST /_dash-update-component HTTP/1.1\" 500 -\n"
     ]
    },
    {
     "name": "stdout",
     "output_type": "stream",
     "text": [
      "Exception on /_dash-update-component [POST]\n",
      "Traceback (most recent call last):\n",
      "  File \"/Applications/anaconda3/envs/wineApi/lib/python3.6/site-packages/flask/app.py\", line 2446, in wsgi_app\n",
      "    response = self.full_dispatch_request()\n",
      "  File \"/Applications/anaconda3/envs/wineApi/lib/python3.6/site-packages/flask/app.py\", line 1951, in full_dispatch_request\n",
      "    rv = self.handle_user_exception(e)\n",
      "  File \"/Applications/anaconda3/envs/wineApi/lib/python3.6/site-packages/flask/app.py\", line 1820, in handle_user_exception\n",
      "    reraise(exc_type, exc_value, tb)\n",
      "  File \"/Applications/anaconda3/envs/wineApi/lib/python3.6/site-packages/flask/_compat.py\", line 39, in reraise\n",
      "    raise value\n",
      "  File \"/Applications/anaconda3/envs/wineApi/lib/python3.6/site-packages/flask/app.py\", line 1949, in full_dispatch_request\n",
      "    rv = self.dispatch_request()\n",
      "  File \"/Applications/anaconda3/envs/wineApi/lib/python3.6/site-packages/flask/app.py\", line 1935, in dispatch_request\n",
      "    return self.view_functions[rule.endpoint](**req.view_args)\n",
      "  File \"/Applications/anaconda3/envs/wineApi/lib/python3.6/site-packages/dash/dash.py\", line 1275, in dispatch\n",
      "    for component_registration in self.callback_map[output]['inputs']:\n",
      "KeyError: 'live-update-text.children'\n"
     ]
    },
    {
     "name": "stderr",
     "output_type": "stream",
     "text": [
      "127.0.0.1 - - [13/Oct/2019 16:48:50] \"POST /_dash-update-component HTTP/1.1\" 500 -\n"
     ]
    },
    {
     "name": "stdout",
     "output_type": "stream",
     "text": [
      "Exception on /_dash-update-component [POST]\n",
      "Traceback (most recent call last):\n",
      "  File \"/Applications/anaconda3/envs/wineApi/lib/python3.6/site-packages/flask/app.py\", line 2446, in wsgi_app\n",
      "    response = self.full_dispatch_request()\n",
      "  File \"/Applications/anaconda3/envs/wineApi/lib/python3.6/site-packages/flask/app.py\", line 1951, in full_dispatch_request\n",
      "    rv = self.handle_user_exception(e)\n",
      "  File \"/Applications/anaconda3/envs/wineApi/lib/python3.6/site-packages/flask/app.py\", line 1820, in handle_user_exception\n",
      "    reraise(exc_type, exc_value, tb)\n",
      "  File \"/Applications/anaconda3/envs/wineApi/lib/python3.6/site-packages/flask/_compat.py\", line 39, in reraise\n",
      "    raise value\n",
      "  File \"/Applications/anaconda3/envs/wineApi/lib/python3.6/site-packages/flask/app.py\", line 1949, in full_dispatch_request\n",
      "    rv = self.dispatch_request()\n",
      "  File \"/Applications/anaconda3/envs/wineApi/lib/python3.6/site-packages/flask/app.py\", line 1935, in dispatch_request\n",
      "    return self.view_functions[rule.endpoint](**req.view_args)\n",
      "  File \"/Applications/anaconda3/envs/wineApi/lib/python3.6/site-packages/dash/dash.py\", line 1275, in dispatch\n",
      "    for component_registration in self.callback_map[output]['inputs']:\n",
      "KeyError: 'live-update-text.children'\n"
     ]
    },
    {
     "name": "stderr",
     "output_type": "stream",
     "text": [
      "127.0.0.1 - - [13/Oct/2019 16:49:50] \"POST /_dash-update-component HTTP/1.1\" 500 -\n"
     ]
    },
    {
     "name": "stdout",
     "output_type": "stream",
     "text": [
      "Exception on /_dash-update-component [POST]\n",
      "Traceback (most recent call last):\n",
      "  File \"/Applications/anaconda3/envs/wineApi/lib/python3.6/site-packages/flask/app.py\", line 2446, in wsgi_app\n",
      "    response = self.full_dispatch_request()\n",
      "  File \"/Applications/anaconda3/envs/wineApi/lib/python3.6/site-packages/flask/app.py\", line 1951, in full_dispatch_request\n",
      "    rv = self.handle_user_exception(e)\n",
      "  File \"/Applications/anaconda3/envs/wineApi/lib/python3.6/site-packages/flask/app.py\", line 1820, in handle_user_exception\n",
      "    reraise(exc_type, exc_value, tb)\n",
      "  File \"/Applications/anaconda3/envs/wineApi/lib/python3.6/site-packages/flask/_compat.py\", line 39, in reraise\n",
      "    raise value\n",
      "  File \"/Applications/anaconda3/envs/wineApi/lib/python3.6/site-packages/flask/app.py\", line 1949, in full_dispatch_request\n",
      "    rv = self.dispatch_request()\n",
      "  File \"/Applications/anaconda3/envs/wineApi/lib/python3.6/site-packages/flask/app.py\", line 1935, in dispatch_request\n",
      "    return self.view_functions[rule.endpoint](**req.view_args)\n",
      "  File \"/Applications/anaconda3/envs/wineApi/lib/python3.6/site-packages/dash/dash.py\", line 1275, in dispatch\n",
      "    for component_registration in self.callback_map[output]['inputs']:\n",
      "KeyError: '..main-chart.figure...Reactive-Power00.figure...TG_Brg_Temp.figure...TG_Brg_Vib.figure...Turb_Brg_Oil_temp.figure...Jet-Pumps.figure..'\n"
     ]
    },
    {
     "name": "stderr",
     "output_type": "stream",
     "text": [
      "127.0.0.1 - - [13/Oct/2019 16:49:50] \"POST /_dash-update-component HTTP/1.1\" 500 -\n"
     ]
    },
    {
     "name": "stdout",
     "output_type": "stream",
     "text": [
      "Exception on /_dash-update-component [POST]\n",
      "Traceback (most recent call last):\n",
      "  File \"/Applications/anaconda3/envs/wineApi/lib/python3.6/site-packages/flask/app.py\", line 2446, in wsgi_app\n",
      "    response = self.full_dispatch_request()\n",
      "  File \"/Applications/anaconda3/envs/wineApi/lib/python3.6/site-packages/flask/app.py\", line 1951, in full_dispatch_request\n",
      "    rv = self.handle_user_exception(e)\n",
      "  File \"/Applications/anaconda3/envs/wineApi/lib/python3.6/site-packages/flask/app.py\", line 1820, in handle_user_exception\n",
      "    reraise(exc_type, exc_value, tb)\n",
      "  File \"/Applications/anaconda3/envs/wineApi/lib/python3.6/site-packages/flask/_compat.py\", line 39, in reraise\n",
      "    raise value\n",
      "  File \"/Applications/anaconda3/envs/wineApi/lib/python3.6/site-packages/flask/app.py\", line 1949, in full_dispatch_request\n",
      "    rv = self.dispatch_request()\n",
      "  File \"/Applications/anaconda3/envs/wineApi/lib/python3.6/site-packages/flask/app.py\", line 1935, in dispatch_request\n",
      "    return self.view_functions[rule.endpoint](**req.view_args)\n",
      "  File \"/Applications/anaconda3/envs/wineApi/lib/python3.6/site-packages/dash/dash.py\", line 1275, in dispatch\n",
      "    for component_registration in self.callback_map[output]['inputs']:\n",
      "KeyError: '..main-chart.figure...Reactive-Power00.figure...TG_Brg_Temp.figure...TG_Brg_Vib.figure...Turb_Brg_Oil_temp.figure...Jet-Pumps.figure..'\n"
     ]
    },
    {
     "name": "stderr",
     "output_type": "stream",
     "text": [
      "127.0.0.1 - - [13/Oct/2019 16:50:50] \"POST /_dash-update-component HTTP/1.1\" 500 -\n"
     ]
    },
    {
     "name": "stdout",
     "output_type": "stream",
     "text": [
      "Exception on /_dash-update-component [POST]\n",
      "Traceback (most recent call last):\n",
      "  File \"/Applications/anaconda3/envs/wineApi/lib/python3.6/site-packages/flask/app.py\", line 2446, in wsgi_app\n",
      "    response = self.full_dispatch_request()\n",
      "  File \"/Applications/anaconda3/envs/wineApi/lib/python3.6/site-packages/flask/app.py\", line 1951, in full_dispatch_request\n",
      "    rv = self.handle_user_exception(e)\n",
      "  File \"/Applications/anaconda3/envs/wineApi/lib/python3.6/site-packages/flask/app.py\", line 1820, in handle_user_exception\n",
      "    reraise(exc_type, exc_value, tb)\n",
      "  File \"/Applications/anaconda3/envs/wineApi/lib/python3.6/site-packages/flask/_compat.py\", line 39, in reraise\n",
      "    raise value\n",
      "  File \"/Applications/anaconda3/envs/wineApi/lib/python3.6/site-packages/flask/app.py\", line 1949, in full_dispatch_request\n",
      "    rv = self.dispatch_request()\n",
      "  File \"/Applications/anaconda3/envs/wineApi/lib/python3.6/site-packages/flask/app.py\", line 1935, in dispatch_request\n",
      "    return self.view_functions[rule.endpoint](**req.view_args)\n",
      "  File \"/Applications/anaconda3/envs/wineApi/lib/python3.6/site-packages/dash/dash.py\", line 1275, in dispatch\n",
      "    for component_registration in self.callback_map[output]['inputs']:\n",
      "KeyError: 'live-update-text.children'\n"
     ]
    },
    {
     "name": "stderr",
     "output_type": "stream",
     "text": [
      "127.0.0.1 - - [13/Oct/2019 16:50:50] \"POST /_dash-update-component HTTP/1.1\" 500 -\n"
     ]
    },
    {
     "name": "stdout",
     "output_type": "stream",
     "text": [
      "Exception on /_dash-update-component [POST]\n",
      "Traceback (most recent call last):\n",
      "  File \"/Applications/anaconda3/envs/wineApi/lib/python3.6/site-packages/flask/app.py\", line 2446, in wsgi_app\n",
      "    response = self.full_dispatch_request()\n",
      "  File \"/Applications/anaconda3/envs/wineApi/lib/python3.6/site-packages/flask/app.py\", line 1951, in full_dispatch_request\n",
      "    rv = self.handle_user_exception(e)\n",
      "  File \"/Applications/anaconda3/envs/wineApi/lib/python3.6/site-packages/flask/app.py\", line 1820, in handle_user_exception\n",
      "    reraise(exc_type, exc_value, tb)\n",
      "  File \"/Applications/anaconda3/envs/wineApi/lib/python3.6/site-packages/flask/_compat.py\", line 39, in reraise\n",
      "    raise value\n",
      "  File \"/Applications/anaconda3/envs/wineApi/lib/python3.6/site-packages/flask/app.py\", line 1949, in full_dispatch_request\n",
      "    rv = self.dispatch_request()\n",
      "  File \"/Applications/anaconda3/envs/wineApi/lib/python3.6/site-packages/flask/app.py\", line 1935, in dispatch_request\n",
      "    return self.view_functions[rule.endpoint](**req.view_args)\n",
      "  File \"/Applications/anaconda3/envs/wineApi/lib/python3.6/site-packages/dash/dash.py\", line 1275, in dispatch\n",
      "    for component_registration in self.callback_map[output]['inputs']:\n",
      "KeyError: '..main-chart.figure...Reactive-Power00.figure...TG_Brg_Temp.figure...TG_Brg_Vib.figure...Turb_Brg_Oil_temp.figure...Jet-Pumps.figure..'\n"
     ]
    },
    {
     "name": "stderr",
     "output_type": "stream",
     "text": [
      "127.0.0.1 - - [13/Oct/2019 16:51:50] \"POST /_dash-update-component HTTP/1.1\" 500 -\n"
     ]
    },
    {
     "name": "stdout",
     "output_type": "stream",
     "text": [
      "Exception on /_dash-update-component [POST]\n",
      "Traceback (most recent call last):\n",
      "  File \"/Applications/anaconda3/envs/wineApi/lib/python3.6/site-packages/flask/app.py\", line 2446, in wsgi_app\n",
      "    response = self.full_dispatch_request()\n",
      "  File \"/Applications/anaconda3/envs/wineApi/lib/python3.6/site-packages/flask/app.py\", line 1951, in full_dispatch_request\n",
      "    rv = self.handle_user_exception(e)\n",
      "  File \"/Applications/anaconda3/envs/wineApi/lib/python3.6/site-packages/flask/app.py\", line 1820, in handle_user_exception\n",
      "    reraise(exc_type, exc_value, tb)\n",
      "  File \"/Applications/anaconda3/envs/wineApi/lib/python3.6/site-packages/flask/_compat.py\", line 39, in reraise\n",
      "    raise value\n",
      "  File \"/Applications/anaconda3/envs/wineApi/lib/python3.6/site-packages/flask/app.py\", line 1949, in full_dispatch_request\n",
      "    rv = self.dispatch_request()\n",
      "  File \"/Applications/anaconda3/envs/wineApi/lib/python3.6/site-packages/flask/app.py\", line 1935, in dispatch_request\n",
      "    return self.view_functions[rule.endpoint](**req.view_args)\n",
      "  File \"/Applications/anaconda3/envs/wineApi/lib/python3.6/site-packages/dash/dash.py\", line 1275, in dispatch\n",
      "    for component_registration in self.callback_map[output]['inputs']:\n",
      "KeyError: 'live-update-text.children'\n"
     ]
    },
    {
     "name": "stderr",
     "output_type": "stream",
     "text": [
      "127.0.0.1 - - [13/Oct/2019 16:51:50] \"POST /_dash-update-component HTTP/1.1\" 500 -\n"
     ]
    },
    {
     "name": "stdout",
     "output_type": "stream",
     "text": [
      "Exception on /_dash-update-component [POST]\n",
      "Traceback (most recent call last):\n",
      "  File \"/Applications/anaconda3/envs/wineApi/lib/python3.6/site-packages/flask/app.py\", line 2446, in wsgi_app\n",
      "    response = self.full_dispatch_request()\n",
      "  File \"/Applications/anaconda3/envs/wineApi/lib/python3.6/site-packages/flask/app.py\", line 1951, in full_dispatch_request\n",
      "    rv = self.handle_user_exception(e)\n",
      "  File \"/Applications/anaconda3/envs/wineApi/lib/python3.6/site-packages/flask/app.py\", line 1820, in handle_user_exception\n",
      "    reraise(exc_type, exc_value, tb)\n",
      "  File \"/Applications/anaconda3/envs/wineApi/lib/python3.6/site-packages/flask/_compat.py\", line 39, in reraise\n",
      "    raise value\n",
      "  File \"/Applications/anaconda3/envs/wineApi/lib/python3.6/site-packages/flask/app.py\", line 1949, in full_dispatch_request\n",
      "    rv = self.dispatch_request()\n",
      "  File \"/Applications/anaconda3/envs/wineApi/lib/python3.6/site-packages/flask/app.py\", line 1935, in dispatch_request\n",
      "    return self.view_functions[rule.endpoint](**req.view_args)\n",
      "  File \"/Applications/anaconda3/envs/wineApi/lib/python3.6/site-packages/dash/dash.py\", line 1275, in dispatch\n",
      "    for component_registration in self.callback_map[output]['inputs']:\n",
      "KeyError: '..main-chart.figure...Reactive-Power00.figure...TG_Brg_Temp.figure...TG_Brg_Vib.figure...Turb_Brg_Oil_temp.figure...Jet-Pumps.figure..'\n"
     ]
    },
    {
     "name": "stderr",
     "output_type": "stream",
     "text": [
      "127.0.0.1 - - [13/Oct/2019 16:52:50] \"POST /_dash-update-component HTTP/1.1\" 500 -\n"
     ]
    },
    {
     "name": "stdout",
     "output_type": "stream",
     "text": [
      "Exception on /_dash-update-component [POST]\n",
      "Traceback (most recent call last):\n",
      "  File \"/Applications/anaconda3/envs/wineApi/lib/python3.6/site-packages/flask/app.py\", line 2446, in wsgi_app\n",
      "    response = self.full_dispatch_request()\n",
      "  File \"/Applications/anaconda3/envs/wineApi/lib/python3.6/site-packages/flask/app.py\", line 1951, in full_dispatch_request\n",
      "    rv = self.handle_user_exception(e)\n",
      "  File \"/Applications/anaconda3/envs/wineApi/lib/python3.6/site-packages/flask/app.py\", line 1820, in handle_user_exception\n",
      "    reraise(exc_type, exc_value, tb)\n",
      "  File \"/Applications/anaconda3/envs/wineApi/lib/python3.6/site-packages/flask/_compat.py\", line 39, in reraise\n",
      "    raise value\n",
      "  File \"/Applications/anaconda3/envs/wineApi/lib/python3.6/site-packages/flask/app.py\", line 1949, in full_dispatch_request\n",
      "    rv = self.dispatch_request()\n",
      "  File \"/Applications/anaconda3/envs/wineApi/lib/python3.6/site-packages/flask/app.py\", line 1935, in dispatch_request\n",
      "    return self.view_functions[rule.endpoint](**req.view_args)\n",
      "  File \"/Applications/anaconda3/envs/wineApi/lib/python3.6/site-packages/dash/dash.py\", line 1275, in dispatch\n",
      "    for component_registration in self.callback_map[output]['inputs']:\n",
      "KeyError: 'live-update-text.children'\n"
     ]
    },
    {
     "name": "stderr",
     "output_type": "stream",
     "text": [
      "127.0.0.1 - - [13/Oct/2019 16:52:50] \"POST /_dash-update-component HTTP/1.1\" 500 -\n"
     ]
    }
   ],
   "source": [
    "if __name__ == '__main__':\n",
    "    if port is not None:\n",
    "        app.run_server(host='0.0.0.0', port=port)\n",
    "\n",
    "    else:\n",
    "        app.run_server()"
   ]
  },
  {
   "cell_type": "code",
   "execution_count": 8,
   "metadata": {},
   "outputs": [
    {
     "ename": "AttributeError",
     "evalue": "'Flask' object has no attribute 'run_server'",
     "output_type": "error",
     "traceback": [
      "\u001b[0;31m---------------------------------------------------------------------------\u001b[0m",
      "\u001b[0;31mAttributeError\u001b[0m                            Traceback (most recent call last)",
      "\u001b[0;32m<ipython-input-8-61c6c22308c7>\u001b[0m in \u001b[0;36m<module>\u001b[0;34m\u001b[0m\n\u001b[1;32m     13\u001b[0m \u001b[0;34m\u001b[0m\u001b[0m\n\u001b[1;32m     14\u001b[0m     \u001b[0;32melse\u001b[0m\u001b[0;34m:\u001b[0m\u001b[0;34m\u001b[0m\u001b[0;34m\u001b[0m\u001b[0m\n\u001b[0;32m---> 15\u001b[0;31m         \u001b[0mapp\u001b[0m\u001b[0;34m.\u001b[0m\u001b[0mrun_server\u001b[0m\u001b[0;34m(\u001b[0m\u001b[0;34m)\u001b[0m\u001b[0;34m\u001b[0m\u001b[0;34m\u001b[0m\u001b[0m\n\u001b[0m",
      "\u001b[0;31mAttributeError\u001b[0m: 'Flask' object has no attribute 'run_server'"
     ]
    }
   ],
   "source": [
    "from flask import Flask\n",
    "\n",
    "app = Flask(__name__)\n",
    "\n",
    "\n",
    "@app.route('/')\n",
    "def index():\n",
    "    return 'Hello World!'\n",
    "    \n",
    "if __name__ == '__main__':\n",
    "    if port is not None:\n",
    "        app.run_server(host='0.0.0.0', port=port)\n",
    "\n",
    "    else:\n",
    "        app.run_server()"
   ]
  },
  {
   "cell_type": "code",
   "execution_count": null,
   "metadata": {},
   "outputs": [],
   "source": []
  }
 ],
 "metadata": {
  "kernelspec": {
   "display_name": "Python 3",
   "language": "python",
   "name": "python3"
  },
  "language_info": {
   "codemirror_mode": {
    "name": "ipython",
    "version": 3
   },
   "file_extension": ".py",
   "mimetype": "text/x-python",
   "name": "python",
   "nbconvert_exporter": "python",
   "pygments_lexer": "ipython3",
   "version": "3.7.1"
  }
 },
 "nbformat": 4,
 "nbformat_minor": 2
}
